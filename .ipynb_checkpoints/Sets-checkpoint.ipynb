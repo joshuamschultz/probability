{
 "cells": [
  {
   "cell_type": "markdown",
   "metadata": {},
   "source": [
    "# Sets"
   ]
  },
  {
   "cell_type": "markdown",
   "metadata": {},
   "source": [
    "## Set Notation"
   ]
  },
  {
   "cell_type": "markdown",
   "metadata": {},
   "source": [
    "A *set* is  collection of unique elements.\n",
    "\n",
    "A set is denoted using brackets\n",
    "$$ \\{ 1, 2, 3\\} $$\n",
    "\n",
    "A set can be finite, like the one above, or it can be infinite like all real numbers.\n",
    "$$\\{ \\mathbb{R} \\} $$\n"
   ]
  },
  {
   "cell_type": "code",
   "execution_count": 8,
   "metadata": {},
   "outputs": [
    {
     "data": {
      "text/plain": [
       "{1, 2, 3}"
      ]
     },
     "execution_count": 8,
     "metadata": {},
     "output_type": "execute_result"
    }
   ],
   "source": [
    "s = {1, 2, 3}\n",
    "s"
   ]
  },
  {
   "cell_type": "code",
   "execution_count": 9,
   "metadata": {},
   "outputs": [
    {
     "data": {
      "text/plain": [
       "{1, 2, 3}"
      ]
     },
     "execution_count": 9,
     "metadata": {},
     "output_type": "execute_result"
    }
   ],
   "source": [
    "s = {1, 2, 2, 3}\n",
    "s"
   ]
  },
  {
   "cell_type": "markdown",
   "metadata": {},
   "source": [
    "## Types of Sets"
   ]
  },
  {
   "cell_type": "markdown",
   "metadata": {},
   "source": [
    "x is a member of (belongs to) s as as denoted by $ \\in $\n",
    "\n",
    "$$\\{x \\in s\\} $$\n",
    "\n",
    "This can be thought of as \"$x$ is in $s$\""
   ]
  },
  {
   "cell_type": "code",
   "execution_count": 21,
   "metadata": {},
   "outputs": [
    {
     "data": {
      "text/plain": [
       "True"
      ]
     },
     "execution_count": 21,
     "metadata": {},
     "output_type": "execute_result"
    }
   ],
   "source": [
    "x = 1\n",
    "s = {1,2,3,4,5,6}\n",
    "\n",
    "x in s"
   ]
  },
  {
   "cell_type": "markdown",
   "metadata": {},
   "source": [
    "The universal set, represented by $\\Omega$, is all possible outcomes.\n",
    "\n",
    "The compliment of a set are the observations in the universal set, but not in the set itself.\n",
    "\n",
    "$$ \\Omega = \\{ \\mathbb{R} \\} $$\n",
    "$$ s = \\{ x > 100 \\} $$\n",
    "$$ s^{c} = \\{ x \\leq 100 \\} $$\n",
    "\n",
    "Because $\\Omega$ has all outcomes, its complement is an empty set.\n",
    "\n",
    "$$\n",
    "\\emptyset = \\Omega^c\n",
    "$$\n",
    "\n",
    "$s$ is a subset of $t$ when all of $s$ is contained in $t$\n",
    "\n",
    "$$ s = \\{ 1, 2, 3\\} $$\n",
    "$$ t = \\{ 1, 2, 3, 4, 5, 6 \\} $$\n",
    "$$ s \\subset t $$"
   ]
  },
  {
   "cell_type": "code",
   "execution_count": 22,
   "metadata": {},
   "outputs": [
    {
     "data": {
      "text/plain": [
       "True"
      ]
     },
     "execution_count": 22,
     "metadata": {},
     "output_type": "execute_result"
    }
   ],
   "source": [
    "x = {1,2,3}\n",
    "s = {1,2,3,4,5,6}\n",
    "\n",
    "x.issubset(s)"
   ]
  },
  {
   "cell_type": "markdown",
   "metadata": {},
   "source": [
    "## Unions & Intersections"
   ]
  },
  {
   "cell_type": "markdown",
   "metadata": {},
   "source": [
    "$x$ is in the union of $s$ and $t$ if it is a member in either set.\n",
    "$$ x \\in s\\cup t  =>  x \\in s \\ or \\ x\\in t $$\n",
    "\n",
    "$x$ is in the intersection of $s$ and $t$ if it is a member of both sets.\n",
    "$$ x \\in s\\cap t  =>  x \\in s \\ and \\ x\\in t $$\n",
    "\n",
    "We can have infinite collections as well.\n",
    "$$ s_n \\quad for \\ n = 1,2,3,4.. $$\n",
    "\n",
    "So \n",
    "\n",
    "$$ \\cup s_n \\iff x \\in s_n \\mbox{for some } n $$\n",
    "$$ \\cap s_n \\iff x \\in s_n \\mbox{for all } n $$"
   ]
  },
  {
   "cell_type": "markdown",
   "metadata": {},
   "source": [
    "## Properties"
   ]
  },
  {
   "cell_type": "markdown",
   "metadata": {},
   "source": [
    "$$ \n",
    "s \\cup t = t \\cup s \\\\\n",
    "s \\cup (t \\cup u) = (s \\cup t) \\cup u \\\\\n",
    "\\\\\n",
    "s \\cup \\Omega = \\Omega \\\\\n",
    "s \\cap \\Omega = s \\\\\n",
    "$$"
   ]
  },
  {
   "cell_type": "code",
   "execution_count": null,
   "metadata": {},
   "outputs": [],
   "source": []
  }
 ],
 "metadata": {
  "kernelspec": {
   "display_name": "Python 3",
   "language": "python",
   "name": "python3"
  },
  "language_info": {
   "codemirror_mode": {
    "name": "ipython",
    "version": 3
   },
   "file_extension": ".py",
   "mimetype": "text/x-python",
   "name": "python",
   "nbconvert_exporter": "python",
   "pygments_lexer": "ipython3",
   "version": "3.7.0"
  }
 },
 "nbformat": 4,
 "nbformat_minor": 4
}
